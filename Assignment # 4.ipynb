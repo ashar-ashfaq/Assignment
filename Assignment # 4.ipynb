{
 "cells": [
  {
   "cell_type": "markdown",
   "metadata": {},
   "source": [
    "# Assignment 1"
   ]
  },
  {
   "cell_type": "code",
   "execution_count": 1,
   "metadata": {},
   "outputs": [
    {
     "name": "stdout",
     "output_type": "stream",
     "text": [
      "Enter key: name\n",
      "Enter value: Hamza Ali\n",
      "Enter key: age\n",
      "Enter value25\n",
      "Enter key: work\n",
      "Enter valueA.I\n",
      "Enter key: skills\n",
      "Enter value in key(skills)python\n",
      "Enter value in key(skills)tensorflow\n",
      "Enter value in key(skills)cloud\n",
      "Enter key: degree\n",
      "Enter key(degree): title\n",
      "Enter value: bs\n",
      "Enter key(degree): major\n",
      "Enter value: computer science\n",
      "Enter key(degree): completionDate\n",
      "Enter value: jun 2019\n",
      "Enter key: salary\n",
      "Enter value 259999\n",
      "Enter key: name\n",
      "Enter value: Farooq Aziz\n",
      "Enter key: age\n",
      "Enter value27\n",
      "Enter key: work\n",
      "Enter valueCloud Native\n",
      "Enter key: skills\n",
      "Enter value in key(skills)ubuntu\n",
      "Enter value in key(skills)docker\n",
      "Enter value in key(skills)kubernetes\n",
      "Enter key: degree\n",
      "Enter key(degree): title\n",
      "Enter value: MS\n",
      "Enter key(degree): major\n",
      "Enter value: Software engineer\n",
      "Enter key(degree): completionDate\n",
      "Enter value: May 2018\n",
      "Enter key: salary\n",
      "Enter value 200000\n",
      "Enter key: name\n",
      "Enter value: Abu Bakr\n",
      "Enter key: age\n",
      "Enter value30\n",
      "Enter key: work\n",
      "Enter valueBlockchain\n",
      "Enter key: skills\n",
      "Enter value in key(skills)python\n",
      "Enter value in key(skills)ceyptography\n",
      "Enter value in key(skills)Ethereum\n",
      "Enter key: degree\n",
      "Enter key(degree): title\n",
      "Enter value: BS\n",
      "Enter key(degree): major\n",
      "Enter value: computer Science\n",
      "Enter key(degree): completionDate\n",
      "Enter value: May 2019\n",
      "Enter key: salary\n",
      "Enter value 300000\n"
     ]
    }
   ],
   "source": [
    "a1,a2,a3 = {},{},{}\n",
    "a = [a1,a2,a3]\n",
    "for n in range(3):\n",
    "    kname = input(\"Enter key: \")\n",
    "    vname = input(\"Enter value: \")\n",
    "    a[n][kname] = vname\n",
    "    \n",
    "    kage = input(\"Enter key: \")\n",
    "    vage = int(input(\"Enter value: \"))\n",
    "    a[n][kage] = vage\n",
    "    \n",
    "    kwork = input(\"Enter key: \")\n",
    "    vwork = input(\"Enter value: \")\n",
    "    a[n][kwork] = vwork\n",
    "    \n",
    "    kskills = input(\"Enter key: \")\n",
    "    vskills = []\n",
    "    for i in range(3):\n",
    "        vs = (input(\"Enter value in key(\"+ kskills +\")\"))\n",
    "        vskills.append(vs)\n",
    "    a[n][kskills] = vskills\n",
    "    \n",
    "    kdegree = input(\"Enter key: \")\n",
    "    vdegree = {}\n",
    "    for j in range(3):\n",
    "        key = input(\"Enter key(\"+ kdegree +\"): \")\n",
    "        value = input(\"Enter value: \")\n",
    "        vdegree[key] = value\n",
    "    a[n][kdegree] = vdegree \n",
    "    \n",
    "    ksal = input(\"Enter key: \")\n",
    "    vsal = int(input(\"Enter value: \"))           \n",
    "    a[n][ksal] = vsal   "
   ]
  },
  {
   "cell_type": "code",
   "execution_count": 2,
   "metadata": {},
   "outputs": [
    {
     "data": {
      "text/plain": [
       "[{'name': 'Hamza Ali',\n",
       "  'age': 25,\n",
       "  'work': 'A.I',\n",
       "  'skills': ['python', 'tensorflow', 'cloud'],\n",
       "  'degree': {'title': 'bs',\n",
       "   'major': 'computer science',\n",
       "   'completionDate': 'jun 2019'},\n",
       "  'salary': 259999},\n",
       " {'name': 'Farooq Aziz',\n",
       "  'age': 27,\n",
       "  'work': 'Cloud Native',\n",
       "  'skills': ['ubuntu', 'docker', 'kubernetes'],\n",
       "  'degree': {'title': 'MS',\n",
       "   'major': 'Software engineer',\n",
       "   'completionDate': 'May 2018'},\n",
       "  'salary': 200000},\n",
       " {'name': 'Abu Bakr',\n",
       "  'age': 30,\n",
       "  'work': 'Blockchain',\n",
       "  'skills': ['python', 'ceyptography', 'Ethereum'],\n",
       "  'degree': {'title': 'BS',\n",
       "   'major': 'computer Science',\n",
       "   'completionDate': 'May 2019'},\n",
       "  'salary': 300000}]"
      ]
     },
     "execution_count": 2,
     "metadata": {},
     "output_type": "execute_result"
    }
   ],
   "source": [
    "a"
   ]
  },
  {
   "cell_type": "markdown",
   "metadata": {},
   "source": [
    "# Assignment 2"
   ]
  },
  {
   "cell_type": "code",
   "execution_count": 65,
   "metadata": {},
   "outputs": [
    {
     "name": "stdout",
     "output_type": "stream",
     "text": [
      "Enter the range for tables: 5\n",
      "10\n",
      "1 x 5 = 5\n",
      "2 x 5 = 10\n",
      "3 x 5 = 15\n",
      "4 x 5 = 20\n",
      "5 x 5 = 25\n",
      "6 x 5 = 30\n",
      "7 x 5 = 35\n",
      "8 x 5 = 40\n",
      "9 x 5 = 45\n",
      "10 x 5 = 50\n",
      "\n",
      "1 x 6 = 6\n",
      "2 x 6 = 12\n",
      "3 x 6 = 18\n",
      "4 x 6 = 24\n",
      "5 x 6 = 30\n",
      "6 x 6 = 36\n",
      "7 x 6 = 42\n",
      "8 x 6 = 48\n",
      "9 x 6 = 54\n",
      "10 x 6 = 60\n",
      "\n",
      "1 x 7 = 7\n",
      "2 x 7 = 14\n",
      "3 x 7 = 21\n",
      "4 x 7 = 28\n",
      "5 x 7 = 35\n",
      "6 x 7 = 42\n",
      "7 x 7 = 49\n",
      "8 x 7 = 56\n",
      "9 x 7 = 63\n",
      "10 x 7 = 70\n",
      "\n",
      "1 x 8 = 8\n",
      "2 x 8 = 16\n",
      "3 x 8 = 24\n",
      "4 x 8 = 32\n",
      "5 x 8 = 40\n",
      "6 x 8 = 48\n",
      "7 x 8 = 56\n",
      "8 x 8 = 64\n",
      "9 x 8 = 72\n",
      "10 x 8 = 80\n",
      "\n",
      "1 x 9 = 9\n",
      "2 x 9 = 18\n",
      "3 x 9 = 27\n",
      "4 x 9 = 36\n",
      "5 x 9 = 45\n",
      "6 x 9 = 54\n",
      "7 x 9 = 63\n",
      "8 x 9 = 72\n",
      "9 x 9 = 81\n",
      "10 x 9 = 90\n",
      "\n",
      "1 x 10 = 10\n",
      "2 x 10 = 20\n",
      "3 x 10 = 30\n",
      "4 x 10 = 40\n",
      "5 x 10 = 50\n",
      "6 x 10 = 60\n",
      "7 x 10 = 70\n",
      "8 x 10 = 80\n",
      "9 x 10 = 90\n",
      "10 x 10 = 100\n",
      "\n"
     ]
    }
   ],
   "source": [
    "a = int(input(\"Enter the range for tables: \"))\n",
    "b = int(input())\n",
    "b +=1\n",
    "for i in range(a,b):\n",
    "    for j in range (1,11):\n",
    "        print(j, \"x\", i, \"=\", j*i)\n",
    "    print(end=\"\\n\")"
   ]
  },
  {
   "cell_type": "code",
   "execution_count": 25,
   "metadata": {},
   "outputs": [
    {
     "name": "stdout",
     "output_type": "stream",
     "text": [
      "Enter the range for tables: 5\n",
      "10\n",
      "5 x 1 = 5\t6 x 1 = 6\t7 x 1 = 7\t8 x 1 = 8\t9 x 1 = 9\t10 x 1 = 10\t\n",
      "5 x 2 = 10\t6 x 2 = 12\t7 x 2 = 14\t8 x 2 = 16\t9 x 2 = 18\t10 x 2 = 20\t\n",
      "5 x 3 = 15\t6 x 3 = 18\t7 x 3 = 21\t8 x 3 = 24\t9 x 3 = 27\t10 x 3 = 30\t\n",
      "5 x 4 = 20\t6 x 4 = 24\t7 x 4 = 28\t8 x 4 = 32\t9 x 4 = 36\t10 x 4 = 40\t\n",
      "5 x 5 = 25\t6 x 5 = 30\t7 x 5 = 35\t8 x 5 = 40\t9 x 5 = 45\t10 x 5 = 50\t\n",
      "5 x 6 = 30\t6 x 6 = 36\t7 x 6 = 42\t8 x 6 = 48\t9 x 6 = 54\t10 x 6 = 60\t\n",
      "5 x 7 = 35\t6 x 7 = 42\t7 x 7 = 49\t8 x 7 = 56\t9 x 7 = 63\t10 x 7 = 70\t\n",
      "5 x 8 = 40\t6 x 8 = 48\t7 x 8 = 56\t8 x 8 = 64\t9 x 8 = 72\t10 x 8 = 80\t\n",
      "5 x 9 = 45\t6 x 9 = 54\t7 x 9 = 63\t8 x 9 = 72\t9 x 9 = 81\t10 x 9 = 90\t\n",
      "5 x 10 = 50\t6 x 10 = 60\t7 x 10 = 70\t8 x 10 = 80\t9 x 10 = 90\t10 x 10 = 100\t\n"
     ]
    }
   ],
   "source": [
    "a = int(input(\"Enter the range for tables: \"))\n",
    "b = int(input())\n",
    "b +=1\n",
    "for i in range(1,11):\n",
    "    for j in range (a,b):\n",
    "        print(j, \"x\", i, \"=\", j*i, end=\"\\t\")\n",
    "    print(end=\"\\n\")"
   ]
  },
  {
   "cell_type": "code",
   "execution_count": null,
   "metadata": {},
   "outputs": [],
   "source": []
  }
 ],
 "metadata": {
  "kernelspec": {
   "display_name": "Python 3",
   "language": "python",
   "name": "python3"
  },
  "language_info": {
   "codemirror_mode": {
    "name": "ipython",
    "version": 3
   },
   "file_extension": ".py",
   "mimetype": "text/x-python",
   "name": "python",
   "nbconvert_exporter": "python",
   "pygments_lexer": "ipython3",
   "version": "3.7.4"
  }
 },
 "nbformat": 4,
 "nbformat_minor": 2
}
