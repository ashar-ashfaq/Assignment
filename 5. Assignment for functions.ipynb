{
 "cells": [
  {
   "cell_type": "markdown",
   "metadata": {},
   "source": [
    "## 1. Calculate area of circle."
   ]
  },
  {
   "cell_type": "code",
   "execution_count": 54,
   "metadata": {},
   "outputs": [],
   "source": [
    "def calcArea(radius, pi, *args, **kwargs):\n",
    "    return pi*radius**2"
   ]
  },
  {
   "cell_type": "code",
   "execution_count": 3,
   "metadata": {},
   "outputs": [
    {
     "name": "stdout",
     "output_type": "stream",
     "text": [
      "Area of circle 237.66659999999996\n"
     ]
    }
   ],
   "source": [
    "print(\"Area of circle\",calcArea(8.7, pi = 3.14))"
   ]
  },
  {
   "cell_type": "code",
   "execution_count": 4,
   "metadata": {},
   "outputs": [
    {
     "name": "stdout",
     "output_type": "stream",
     "text": [
      "Area of circle 265.76959999999997\n"
     ]
    }
   ],
   "source": [
    "print(\"Area of circle\",calcArea(9.2, pi = 3.14))"
   ]
  },
  {
   "cell_type": "code",
   "execution_count": 5,
   "metadata": {},
   "outputs": [
    {
     "name": "stdout",
     "output_type": "stream",
     "text": [
      "Area of circle 806.8572260000002\n"
     ]
    }
   ],
   "source": [
    "print(\"Area of circle\",calcArea(16.03, pi = 3.14))"
   ]
  },
  {
   "cell_type": "code",
   "execution_count": 11,
   "metadata": {},
   "outputs": [],
   "source": [
    "data = [\"python\", \"r\", \"java\", \"pascal\", \"c\", \"javascript\", \"assembley\", \"html\", \"c++\"]\n"
   ]
  },
  {
   "cell_type": "markdown",
   "metadata": {},
   "source": [
    "## 2. Write function to check if a value exists in a list"
   ]
  },
  {
   "cell_type": "code",
   "execution_count": 58,
   "metadata": {},
   "outputs": [],
   "source": [
    "def checkval(any_list, checknum, *args, **kwargs):\n",
    "    for n in any_list:\n",
    "        if n == checknum:\n",
    "            num = any_list.index(n)\n",
    "    return num\n",
    "    "
   ]
  },
  {
   "cell_type": "code",
   "execution_count": 59,
   "metadata": {},
   "outputs": [
    {
     "data": {
      "text/plain": [
       "0"
      ]
     },
     "execution_count": 59,
     "metadata": {},
     "output_type": "execute_result"
    }
   ],
   "source": [
    "checkval(data,\"python\")"
   ]
  },
  {
   "cell_type": "code",
   "execution_count": 14,
   "metadata": {},
   "outputs": [
    {
     "data": {
      "text/plain": [
       "7"
      ]
     },
     "execution_count": 14,
     "metadata": {},
     "output_type": "execute_result"
    }
   ],
   "source": [
    "checkval(data,\"html\")"
   ]
  },
  {
   "cell_type": "code",
   "execution_count": 15,
   "metadata": {},
   "outputs": [
    {
     "data": {
      "text/plain": [
       "4"
      ]
     },
     "execution_count": 15,
     "metadata": {},
     "output_type": "execute_result"
    }
   ],
   "source": [
    "checkval(data,\"c\")"
   ]
  },
  {
   "cell_type": "markdown",
   "metadata": {},
   "source": [
    "## 3. Write a function to shift list item to right n times"
   ]
  },
  {
   "cell_type": "code",
   "execution_count": 60,
   "metadata": {},
   "outputs": [],
   "source": [
    "def shiftItems(ListName,n, *args, **kwargs):\n",
    "    ListName = (ListName[-n:] + ListName[:-n]) \n",
    "    return ListName"
   ]
  },
  {
   "cell_type": "code",
   "execution_count": 21,
   "metadata": {},
   "outputs": [
    {
     "name": "stdout",
     "output_type": "stream",
     "text": [
      "['assembley', 'html', 'c++', 'python', 'r', 'java', 'pascal', 'c', 'javascript']\n"
     ]
    }
   ],
   "source": [
    "print(shiftItems(data,3))"
   ]
  },
  {
   "cell_type": "code",
   "execution_count": 23,
   "metadata": {},
   "outputs": [
    {
     "name": "stdout",
     "output_type": "stream",
     "text": [
      "['c++', 'python', 'r', 'java', 'pascal', 'c', 'javascript', 'assembley', 'html']\n"
     ]
    }
   ],
   "source": [
    "print(shiftItems(data,1))"
   ]
  },
  {
   "cell_type": "code",
   "execution_count": 27,
   "metadata": {},
   "outputs": [
    {
     "name": "stdout",
     "output_type": "stream",
     "text": [
      "['c', 'javascript', 'assembley', 'html', 'c++', 'python', 'r', 'java', 'pascal']\n"
     ]
    }
   ],
   "source": [
    "print(shiftItems(data,5))"
   ]
  },
  {
   "cell_type": "markdown",
   "metadata": {},
   "source": [
    "## 4. Use while loop to get data"
   ]
  },
  {
   "cell_type": "code",
   "execution_count": 9,
   "metadata": {},
   "outputs": [
    {
     "name": "stdout",
     "output_type": "stream",
     "text": [
      "Enter radius of circle: 2\n",
      "Area of circle 12.56\n",
      "Enter quit for break the loop: s\n",
      "Enter radius of circle: 23\n",
      "Area of circle 1661.0600000000002\n",
      "Enter quit for break the loop: quit\n"
     ]
    }
   ],
   "source": [
    "take_value_for_quit = \"\"\n",
    "while take_value_for_quit != \"quit\":\n",
    "    radius = float(input(\"Enter radius of circle: \"))\n",
    "    print(\"Area of circle\",calcArea(radius,3.14))\n",
    "    take_value_for_quit = input(\"Enter quit for break the loop: \")\n"
   ]
  },
  {
   "cell_type": "markdown",
   "metadata": {},
   "source": [
    "## 5. Function with **kwargs:"
   ]
  },
  {
   "cell_type": "code",
   "execution_count": 168,
   "metadata": {},
   "outputs": [],
   "source": [
    "def add(dict):\n",
    "    sum = 0\n",
    "    for v in dict.values():\n",
    "        sum += v\n",
    "    return sum"
   ]
  },
  {
   "cell_type": "code",
   "execution_count": 169,
   "metadata": {},
   "outputs": [],
   "source": [
    "def per(dict):\n",
    "    return (add(dict)/400)*100"
   ]
  },
  {
   "cell_type": "code",
   "execution_count": 210,
   "metadata": {},
   "outputs": [],
   "source": [
    "def showDetails(**kwargs):\n",
    "    max, min =\"\", \"\"\n",
    "    msg = \"\"\"hello {}\n",
    "Here is your result for class of {},\n",
    "Your score card is as follows.\n",
    "ClassMarks:\n",
    "    math : {}\n",
    "    physics : {}\n",
    "    biology : {}\n",
    "    computer : {}\n",
    "Total marks are {}\n",
    "Percentage is as follows: {}%\n",
    "Maximum marks are in {}\"\"\n",
    "Minimum marks are in {}\"\"\n",
    "You are promoted to next class.\"\"\"\n",
    "    \n",
    "    for n in kwargs[\"marks\"].keys():\n",
    "        if n == \"biology\":\n",
    "            max = n\n",
    "        if n == \"math\":\n",
    "            min = n\n",
    "            \n",
    "    return msg.format(kwargs[\"name\"], kwargs[\"Class\"], kwargs[\"marks\"][\"math\"], kwargs[\"marks\"][\"physics\"], kwargs[\"marks\"][\"biology\"], kwargs[\"marks\"][\"computer\"], add(kwargs[\"marks\"]),per(kwargs[\"marks\"]), max, min)"
   ]
  },
  {
   "cell_type": "code",
   "execution_count": 211,
   "metadata": {},
   "outputs": [
    {
     "name": "stdout",
     "output_type": "stream",
     "text": [
      "hello Ali\n",
      "Here is your result for class of AI,\n",
      "Your score card is as follows.\n",
      "ClassMarks:\n",
      "    math : 50\n",
      "    physics : 80\n",
      "    biology : 90\n",
      "    computer : 67\n",
      "Total marks are 287\n",
      "Percentage is as follows: 71.75%\n",
      "Maximum marks are in biology\"\"\n",
      "Minimum marks are in math\"\"\n",
      "You are promoted to next class.\n"
     ]
    }
   ],
   "source": [
    "print(showDetails(name = \"Ali\", Class = \"AI\", marks = {\"math\" : 50, \"physics\" : 80, \"biology\" : 90, \"computer\" : 67}, date = \"1 Feb 2020\", nextClass = True ))"
   ]
  },
  {
   "cell_type": "code",
   "execution_count": null,
   "metadata": {},
   "outputs": [],
   "source": []
  }
 ],
 "metadata": {
  "kernelspec": {
   "display_name": "Python 3",
   "language": "python",
   "name": "python3"
  }
 },
 "nbformat": 4,
 "nbformat_minor": 2
}
